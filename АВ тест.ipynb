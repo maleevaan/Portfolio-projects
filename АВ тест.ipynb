{
 "cells": [
  {
   "cell_type": "markdown",
   "id": "8b4c2c70",
   "metadata": {},
   "source": [
    "# Симуляция А/В теста на данных онлайн кинотеатра."
   ]
  },
  {
   "cell_type": "code",
   "execution_count": 5,
   "id": "bac8aab7",
   "metadata": {},
   "outputs": [],
   "source": [
    "import numpy as np\n",
    "import scipy\n",
    "import matplotlib.pyplot as plt\n",
    "import scipy.stats as stats\n",
    "import statsmodels\n",
    "import statsmodels.sandbox.stats.multicomp\n",
    "import pandas as pd\n",
    "from statsmodels.stats.weightstats import ztest\n",
    "\n",
    "import matplotlib.pyplot as plt\n",
    "import seaborn as sns\n",
    "\n",
    "from tqdm import tqdm\n",
    "from sklearn.utils import shuffle\n",
    "import hashlib\n",
    "from base64 import b64encode\n",
    "import collections\n",
    "import datetime\n",
    "from scipy.stats import norm\n",
    "from scipy.stats import ttest_ind\n",
    "from statsmodels.stats.power import TTestIndPower"
   ]
  },
  {
   "cell_type": "markdown",
   "id": "da2b30ae",
   "metadata": {},
   "source": [
    "# Задача: \n",
    "\n",
    "Предполагаетя внедрить новую модель рекомендаций для пользователей сервиса онлайн кинотеатра, которая будет воздействовать на всех пользователей (те кто смотрит и те кто не смотрит контент). Задача сделать дизайн А/В теста и провести сам тест. Результат теста должен показать, что модель в группе В показала себя лучше, чем в группе А на 2.5%, причем эффект распространился неравномерно и преимущественно на 10% самых активных пользователей."
   ]
  },
  {
   "cell_type": "markdown",
   "id": "82d37930",
   "metadata": {},
   "source": [
    "## Дизайн А/В теста"
   ]
  },
  {
   "cell_type": "markdown",
   "id": "353268cc",
   "metadata": {},
   "source": [
    "### Анализ данных"
   ]
  },
  {
   "cell_type": "markdown",
   "id": "64587a21",
   "metadata": {},
   "source": [
    "Загрузка данных"
   ]
  },
  {
   "cell_type": "code",
   "execution_count": 6,
   "id": "8a5e442a",
   "metadata": {
    "scrolled": false
   },
   "outputs": [
    {
     "data": {
      "text/html": [
       "<div>\n",
       "<style scoped>\n",
       "    .dataframe tbody tr th:only-of-type {\n",
       "        vertical-align: middle;\n",
       "    }\n",
       "\n",
       "    .dataframe tbody tr th {\n",
       "        vertical-align: top;\n",
       "    }\n",
       "\n",
       "    .dataframe thead th {\n",
       "        text-align: right;\n",
       "    }\n",
       "</style>\n",
       "<table border=\"1\" class=\"dataframe\">\n",
       "  <thead>\n",
       "    <tr style=\"text-align: right;\">\n",
       "      <th></th>\n",
       "      <th>user_id</th>\n",
       "      <th>item_id</th>\n",
       "      <th>last_watch_dt</th>\n",
       "      <th>total_dur</th>\n",
       "      <th>watched_pct</th>\n",
       "    </tr>\n",
       "  </thead>\n",
       "  <tbody>\n",
       "    <tr>\n",
       "      <th>0</th>\n",
       "      <td>176549</td>\n",
       "      <td>9506</td>\n",
       "      <td>2021-05-11</td>\n",
       "      <td>4250</td>\n",
       "      <td>72.0</td>\n",
       "    </tr>\n",
       "    <tr>\n",
       "      <th>1</th>\n",
       "      <td>699317</td>\n",
       "      <td>1659</td>\n",
       "      <td>2021-05-29</td>\n",
       "      <td>8317</td>\n",
       "      <td>100.0</td>\n",
       "    </tr>\n",
       "    <tr>\n",
       "      <th>2</th>\n",
       "      <td>656683</td>\n",
       "      <td>7107</td>\n",
       "      <td>2021-05-09</td>\n",
       "      <td>10</td>\n",
       "      <td>0.0</td>\n",
       "    </tr>\n",
       "    <tr>\n",
       "      <th>3</th>\n",
       "      <td>864613</td>\n",
       "      <td>7638</td>\n",
       "      <td>2021-07-05</td>\n",
       "      <td>14483</td>\n",
       "      <td>100.0</td>\n",
       "    </tr>\n",
       "    <tr>\n",
       "      <th>4</th>\n",
       "      <td>964868</td>\n",
       "      <td>9506</td>\n",
       "      <td>2021-04-30</td>\n",
       "      <td>6725</td>\n",
       "      <td>100.0</td>\n",
       "    </tr>\n",
       "  </tbody>\n",
       "</table>\n",
       "</div>"
      ],
      "text/plain": [
       "   user_id  item_id last_watch_dt  total_dur  watched_pct\n",
       "0   176549     9506    2021-05-11       4250         72.0\n",
       "1   699317     1659    2021-05-29       8317        100.0\n",
       "2   656683     7107    2021-05-09         10          0.0\n",
       "3   864613     7638    2021-07-05      14483        100.0\n",
       "4   964868     9506    2021-04-30       6725        100.0"
      ]
     },
     "execution_count": 6,
     "metadata": {},
     "output_type": "execute_result"
    }
   ],
   "source": [
    "interactions = pd.read_csv('interactions.csv')\n",
    "interactions.head()\n",
    "\n",
    "# user_id - уникальный идентификатор пользователя\n",
    "# item_id - уникальный идентификатор контента\n",
    "# last_watch_dt - последняя дата просмотра юзером определенного контента\n",
    "# total_dur - суммарная продолжительность просмотра определенного контента юзером (в секундах)\n",
    "# watched_pct - процент просмотренного контента от общей продолжительности"
   ]
  },
  {
   "cell_type": "code",
   "execution_count": 7,
   "id": "9ff2c55d",
   "metadata": {},
   "outputs": [
    {
     "name": "stdout",
     "output_type": "stream",
     "text": [
      "<class 'pandas.core.frame.DataFrame'>\n",
      "RangeIndex: 5476251 entries, 0 to 5476250\n",
      "Data columns (total 5 columns):\n",
      " #   Column         Dtype  \n",
      "---  ------         -----  \n",
      " 0   user_id        int64  \n",
      " 1   item_id        int64  \n",
      " 2   last_watch_dt  object \n",
      " 3   total_dur      int64  \n",
      " 4   watched_pct    float64\n",
      "dtypes: float64(1), int64(3), object(1)\n",
      "memory usage: 208.9+ MB\n"
     ]
    }
   ],
   "source": [
    "interactions.info()"
   ]
  },
  {
   "cell_type": "code",
   "execution_count": 8,
   "id": "f1c7583b",
   "metadata": {
    "scrolled": true
   },
   "outputs": [
    {
     "data": {
      "text/plain": [
       "(5476251, 5)"
      ]
     },
     "execution_count": 8,
     "metadata": {},
     "output_type": "execute_result"
    }
   ],
   "source": [
    "interactions.shape"
   ]
  },
  {
   "cell_type": "markdown",
   "id": "11ec8b77",
   "metadata": {},
   "source": [
    "Проверяем наличие пропущенных значений"
   ]
  },
  {
   "cell_type": "code",
   "execution_count": 9,
   "id": "f71f0587",
   "metadata": {},
   "outputs": [
    {
     "data": {
      "text/plain": [
       "user_id            0\n",
       "item_id            0\n",
       "last_watch_dt      0\n",
       "total_dur          0\n",
       "watched_pct      828\n",
       "dtype: int64"
      ]
     },
     "execution_count": 9,
     "metadata": {},
     "output_type": "execute_result"
    }
   ],
   "source": [
    "interactions.isnull().sum(axis=0)"
   ]
  },
  {
   "cell_type": "markdown",
   "id": "355661e3",
   "metadata": {},
   "source": [
    "Для всех пользователей total_duration < 500 (несмотрящие пользователи) принимаем total_duration = 0"
   ]
  },
  {
   "cell_type": "code",
   "execution_count": 10,
   "id": "8d94f037",
   "metadata": {},
   "outputs": [],
   "source": [
    "interactions.loc[interactions['total_dur'] < 500, 'total_dur'] = 0"
   ]
  },
  {
   "cell_type": "markdown",
   "id": "96d6638b",
   "metadata": {},
   "source": [
    "### Выбор метрики и анализ распределения"
   ]
  },
  {
   "cell_type": "markdown",
   "id": "6872f7c4",
   "metadata": {},
   "source": [
    "Выберем в качестве исследуемой метрики суммарную продолжительность просмотра определенного контента пользователем (в секундах). Для всех пользователей данные зафиксированы.\n",
    "\n",
    "Посмотрим распределенние данных."
   ]
  },
  {
   "cell_type": "code",
   "execution_count": 11,
   "id": "dd0549bb",
   "metadata": {
    "scrolled": false
   },
   "outputs": [
    {
     "data": {
      "image/png": "[encoded data removed]",
      "text/plain": [
       "<Figure size 640x480 with 1 Axes>"
      ]
     },
     "metadata": {},
     "output_type": "display_data"
    }
   ],
   "source": [
    "fig, ax = plt.subplots()\n",
    "ax.set_xlim(0, 5000)\n",
    "sns.histplot(data=interactions, x=interactions.groupby('user_id')['total_dur'].mean(), bins=10000, color='violet');"
   ]
  },
  {
   "cell_type": "markdown",
   "id": "ec64c6ba",
   "metadata": {},
   "source": [
    "total_dur сильно перекошена, есть много нулей и длинный хвост → стоит логарифмировать."
   ]
  },
  {
   "cell_type": "markdown",
   "id": "6f4b9a06",
   "metadata": {},
   "source": [
    "### Выбор стат.критерия"
   ]
  },
  {
   "cell_type": "code",
   "execution_count": 12,
   "id": "82ff8bff",
   "metadata": {},
   "outputs": [
    {
     "data": {
      "image/png": "[encoded data removed]",
      "text/plain": [
       "<Figure size 640x480 with 1 Axes>"
      ]
     },
     "metadata": {},
     "output_type": "display_data"
    }
   ],
   "source": [
    "lg_int = interactions.copy()\n",
    "lg_int['log_dur'] = np.log1p(lg_int['total_dur']+1)\n",
    "\n",
    "fig, ax = plt.subplots()\n",
    "ax.set_xlim(0, 15)\n",
    "sns.histplot(data=lg_int, x=lg_int.groupby('user_id')['log_dur'].mean(), bins=100, color='violet');"
   ]
  },
  {
   "cell_type": "markdown",
   "id": "5acbc730",
   "metadata": {},
   "source": [
    "Если мы работаем с логафимированными данными, то распредление становиться блже к нормальному, относительно симметричным. Будем использовать  ttest. "
   ]
  },
  {
   "cell_type": "markdown",
   "id": "81d218d4",
   "metadata": {},
   "source": [
    "### Анализ надежности и чувствительности"
   ]
  },
  {
   "cell_type": "markdown",
   "id": "6fbcfc9a",
   "metadata": {},
   "source": [
    "Дополнительные функции:"
   ]
  },
  {
   "cell_type": "code",
   "execution_count": 13,
   "id": "fbc80baf",
   "metadata": {},
   "outputs": [],
   "source": [
    "def salt_generator(salt=None):\n",
    "    \"\"\"\n",
    "    Генерирует случайную строку (соль) для использования при хешировании user_id\n",
    "    при разделении пользователей на группы в A/B-тестах.\n",
    "    \"\"\"\n",
    "    import os\n",
    "    from base64 import b64encode # кодирует байтоподобный объект с помощью Base64 и возвращает закодированную байтовую строку.\n",
    "    salt = os.urandom(8)\n",
    "    \n",
    "    return b64encode(salt).decode('ascii')\n",
    "\n",
    "def groups_splitter(df, user_salt=None):\n",
    "    \"\"\"\n",
    "    Реализует разбивку всей выборки на группы с использованием хеширования user_id\n",
    "    с использованием соли.\n",
    "    \"\"\"\n",
    "    \n",
    "    if user_salt == None:\n",
    "        salt = salt_generator()\n",
    "    else:\n",
    "        salt = user_salt\n",
    "    \n",
    "    df['hash'] = ((df['user_id'].astype(str)) + '#' + salt).apply(lambda x: hashlib.sha256(x.encode('utf-8')).hexdigest())\n",
    "\n",
    "    df['group'] = ((df['hash'].str.slice(start=-6).apply(int, base=16) % 2).map(lambda x: 'A' if x == 0 else 'B'))\n",
    "\n",
    "    return df[['user_id', 'group']].drop_duplicates()"
   ]
  },
  {
   "cell_type": "code",
   "execution_count": 9,
   "id": "ea7b53d2",
   "metadata": {},
   "outputs": [
    {
     "name": "stderr",
     "output_type": "stream",
     "text": [
      "100%|████████████████████████████████████████████████████████████████████████████████| 100/100 [30:50<00:00, 18.51s/it]\n"
     ]
    },
    {
     "name": "stdout",
     "output_type": "stream",
     "text": [
      " power: 100.0% , correctness: 98.0%\n"
     ]
    },
    {
     "data": {
      "image/png": "[encoded data removed]",
      "text/plain": [
       "<Figure size 470x427 with 1 Axes>"
      ]
     },
     "metadata": {},
     "output_type": "display_data"
    }
   ],
   "source": [
    "correctness = []  # Оценка устойчивости метрики\n",
    "power = []        # Оценка чувствительности метрики\n",
    "\n",
    "for i in tqdm(range(100)):\n",
    "\n",
    "    new_group = groups_splitter(interactions.copy(), user_salt=salt_generator())\n",
    "\n",
    "    new_df = pd.merge(interactions, new_group, how=\"left\", on='user_id')\n",
    "\n",
    "    user_agg = new_df.groupby(['user_id', 'group'])['total_dur'].sum().reset_index()\n",
    "\n",
    "    vec_a = user_agg[user_agg['group'] == 'A']['total_dur']\n",
    "    vec_b = user_agg[user_agg['group'] == 'B']['total_dur']\n",
    "\n",
    "    # Создаём эффект\n",
    "    vec_b_effect = vec_b * 1.05\n",
    "\n",
    "    # Логарифмирование\n",
    "    vec_a_ln = np.log(vec_a + 1)\n",
    "    vec_b_ln = np.log(vec_b + 1)\n",
    "    vec_b_effect_ln = np.log(vec_b_effect + 1)\n",
    "\n",
    "    p_cor = stats.ttest_ind(vec_a_ln, vec_b_ln)[1]\n",
    "    p_power = stats.ttest_ind(vec_a_ln, vec_b_effect_ln)[1]\n",
    "\n",
    "    correctness.append(p_cor)\n",
    "    power.append(p_power)\n",
    "\n",
    "correctness = np.array(correctness)\n",
    "power = np.array(power)\n",
    "\n",
    "sns.set(rc={'figure.figsize': (4.7, 4.27)})\n",
    "sns.histplot(data=correctness, bins=10, color='violet', kde=True)\n",
    "\n",
    "print(f' power: {(power[power < 0.05].shape[0] / power.shape[0]) * 100:.1f}% , '\n",
    "      f'correctness: {(1 - (correctness[correctness < 0.05].shape[0] / correctness.shape[0])) * 100:.1f}%')"
   ]
  },
  {
   "cell_type": "markdown",
   "id": "462fb874",
   "metadata": {},
   "source": [
    "Оценка чувствительности метрики (Power Test):\n",
    "Мы смоделировали эксперимент в группе B (только для проверки).\n",
    "Затем мы многократно (100 итераций) проводили т-тест, чтобы оценить, насколько часто такой эффект фиксируется как статистически значимый при p-value < 0.05.\n",
    "Результат: Power ≈ 100% — означает, что метрика чувствительна к эффекту такого масштаба, и при его наличии тест с большой вероятностью его зафиксирует.\n",
    "\n",
    "Оценка устойчивости метрики (Correctness):\n",
    "Мы сгенерировали случайные разбиения пользователей на группы A и B без наложения эффекта. Далее проверяли, как часто на этом \"нулевом эффекте\" метрика ошибочно показывает значимость.\n",
    "Результат: Correctness ≈ 98% — значит, что метрика в 98% случаев правильно не фиксирует эффект, когда его нет. Таким образом, ложноположительные срабатывания укладываются в допустимые границы.\n",
    "\n",
    "Применение логарифмирования:\n",
    "Для нормализации распределения и снижения влияния выбросов мы применили логарифмирование: log(total_dur + 1). Это улучшает свойства метрики и повышает статистическую стабильность тестов."
   ]
  },
  {
   "cell_type": "markdown",
   "id": "804d702e",
   "metadata": {},
   "source": [
    "### Определение MDE (Minimum Detectable Effect) для выбранной метрики"
   ]
  },
  {
   "cell_type": "code",
   "execution_count": 14,
   "id": "5d55b8b7",
   "metadata": {},
   "outputs": [
    {
     "name": "stdout",
     "output_type": "stream",
     "text": [
      "MDE: 2.24%\n"
     ]
    }
   ],
   "source": [
    "vec = np.log(interactions['total_dur'] + 1)\n",
    "\n",
    "std = np.std(vec)\n",
    "\n",
    "n = len(interactions['user_id'].unique()) // 2  \n",
    "z_alpha = norm.ppf(1 - 0.05 / 2)   \n",
    "z_power = norm.ppf(0.8)       \n",
    "\n",
    "mde = (z_alpha + z_power) * std * np.sqrt(2) / np.sqrt(n)\n",
    "\n",
    "print(f'MDE: {mde * 100:.2f}%')"
   ]
  },
  {
   "cell_type": "markdown",
   "id": "cd8e230e",
   "metadata": {},
   "source": [
    "MDE для выбранной метрики (total_dur) после логарифмирования он составил ≈2.24%. Наш тест имеет достаточную чувствительность, чтобы поймать эффект в 2.5%. "
   ]
  },
  {
   "cell_type": "markdown",
   "id": "67fb757e",
   "metadata": {},
   "source": [
    "## Симуляция А/В теста"
   ]
  },
  {
   "cell_type": "markdown",
   "id": "60f6e3a7",
   "metadata": {},
   "source": [
    "Считаем, что прошло достаточное количество времени. А/В тест завершился. \n",
    "\n",
    "Реализуем эффект для группы В отвечающий условию: модель в группе В показала себя лучше, чем в группе А на 2.5%, причем эффект распространился неравномерно и преимущественно на 10% самых активных пользователей."
   ]
  },
  {
   "cell_type": "markdown",
   "id": "104ee41c",
   "metadata": {},
   "source": [
    "Реализуем разбивку пользователей на две группы:"
   ]
  },
  {
   "cell_type": "code",
   "execution_count": 15,
   "id": "4bc8baa2",
   "metadata": {},
   "outputs": [
    {
     "data": {
      "text/html": [
       "<div>\n",
       "<style scoped>\n",
       "    .dataframe tbody tr th:only-of-type {\n",
       "        vertical-align: middle;\n",
       "    }\n",
       "\n",
       "    .dataframe tbody tr th {\n",
       "        vertical-align: top;\n",
       "    }\n",
       "\n",
       "    .dataframe thead th {\n",
       "        text-align: right;\n",
       "    }\n",
       "</style>\n",
       "<table border=\"1\" class=\"dataframe\">\n",
       "  <thead>\n",
       "    <tr style=\"text-align: right;\">\n",
       "      <th></th>\n",
       "      <th>user_id</th>\n",
       "      <th>item_id</th>\n",
       "      <th>last_watch_dt</th>\n",
       "      <th>total_dur</th>\n",
       "      <th>watched_pct</th>\n",
       "      <th>hash</th>\n",
       "      <th>group</th>\n",
       "    </tr>\n",
       "  </thead>\n",
       "  <tbody>\n",
       "    <tr>\n",
       "      <th>0</th>\n",
       "      <td>176549</td>\n",
       "      <td>9506</td>\n",
       "      <td>2021-05-11</td>\n",
       "      <td>4250</td>\n",
       "      <td>72.0</td>\n",
       "      <td>c0dcfa04ab3507322295d6857d979107cc6061ea3cbf35...</td>\n",
       "      <td>A</td>\n",
       "    </tr>\n",
       "    <tr>\n",
       "      <th>1</th>\n",
       "      <td>699317</td>\n",
       "      <td>1659</td>\n",
       "      <td>2021-05-29</td>\n",
       "      <td>8317</td>\n",
       "      <td>100.0</td>\n",
       "      <td>48752761f66154f154137ce0bb85271129bf67f46acd07...</td>\n",
       "      <td>B</td>\n",
       "    </tr>\n",
       "    <tr>\n",
       "      <th>2</th>\n",
       "      <td>656683</td>\n",
       "      <td>7107</td>\n",
       "      <td>2021-05-09</td>\n",
       "      <td>0</td>\n",
       "      <td>0.0</td>\n",
       "      <td>7d15f254741e754652eb744076bc189601319ac48adcd3...</td>\n",
       "      <td>A</td>\n",
       "    </tr>\n",
       "    <tr>\n",
       "      <th>3</th>\n",
       "      <td>864613</td>\n",
       "      <td>7638</td>\n",
       "      <td>2021-07-05</td>\n",
       "      <td>14483</td>\n",
       "      <td>100.0</td>\n",
       "      <td>4827bc72eec24e0711f3bbdee5a40a6b1e13170d99a8db...</td>\n",
       "      <td>A</td>\n",
       "    </tr>\n",
       "    <tr>\n",
       "      <th>4</th>\n",
       "      <td>964868</td>\n",
       "      <td>9506</td>\n",
       "      <td>2021-04-30</td>\n",
       "      <td>6725</td>\n",
       "      <td>100.0</td>\n",
       "      <td>e5fea174d818b7a2540615858c8e510bee788600bc4b74...</td>\n",
       "      <td>A</td>\n",
       "    </tr>\n",
       "  </tbody>\n",
       "</table>\n",
       "</div>"
      ],
      "text/plain": [
       "   user_id  item_id last_watch_dt  total_dur  watched_pct  \\\n",
       "0   176549     9506    2021-05-11       4250         72.0   \n",
       "1   699317     1659    2021-05-29       8317        100.0   \n",
       "2   656683     7107    2021-05-09          0          0.0   \n",
       "3   864613     7638    2021-07-05      14483        100.0   \n",
       "4   964868     9506    2021-04-30       6725        100.0   \n",
       "\n",
       "                                                hash group  \n",
       "0  c0dcfa04ab3507322295d6857d979107cc6061ea3cbf35...     A  \n",
       "1  48752761f66154f154137ce0bb85271129bf67f46acd07...     B  \n",
       "2  7d15f254741e754652eb744076bc189601319ac48adcd3...     A  \n",
       "3  4827bc72eec24e0711f3bbdee5a40a6b1e13170d99a8db...     A  \n",
       "4  e5fea174d818b7a2540615858c8e510bee788600bc4b74...     A  "
      ]
     },
     "execution_count": 15,
     "metadata": {},
     "output_type": "execute_result"
    }
   ],
   "source": [
    "interactions['hash'] = ((interactions['user_id'].astype(str)) + '#' + 'kiontestmodel20210114').apply(lambda x: hashlib.sha256(x.encode('utf-8')).hexdigest())\n",
    "\n",
    "interactions['group'] = ((interactions['hash'].str.slice(start=-6).apply(int, base=16) % 2).map(lambda x: 'A' if x == 0 else 'B'))\n",
    "interactions.head()"
   ]
  },
  {
   "cell_type": "markdown",
   "id": "0b822153",
   "metadata": {},
   "source": [
    "для удобства удаляем столбец 'hash'"
   ]
  },
  {
   "cell_type": "code",
   "execution_count": 16,
   "id": "53fcdb4e",
   "metadata": {},
   "outputs": [],
   "source": [
    "interactions.drop(columns = 'hash', inplace = True)"
   ]
  },
  {
   "cell_type": "markdown",
   "id": "3e57193d",
   "metadata": {},
   "source": [
    "Проверяем как реализовалась разбивка на группы"
   ]
  },
  {
   "cell_type": "code",
   "execution_count": 17,
   "id": "c7a58dbd",
   "metadata": {
    "scrolled": true
   },
   "outputs": [
    {
     "data": {
      "text/html": [
       "<div>\n",
       "<style scoped>\n",
       "    .dataframe tbody tr th:only-of-type {\n",
       "        vertical-align: middle;\n",
       "    }\n",
       "\n",
       "    .dataframe tbody tr th {\n",
       "        vertical-align: top;\n",
       "    }\n",
       "\n",
       "    .dataframe thead th {\n",
       "        text-align: right;\n",
       "    }\n",
       "</style>\n",
       "<table border=\"1\" class=\"dataframe\">\n",
       "  <thead>\n",
       "    <tr style=\"text-align: right;\">\n",
       "      <th></th>\n",
       "      <th>user_id</th>\n",
       "      <th>item_id</th>\n",
       "      <th>last_watch_dt</th>\n",
       "      <th>total_dur</th>\n",
       "      <th>watched_pct</th>\n",
       "    </tr>\n",
       "    <tr>\n",
       "      <th>group</th>\n",
       "      <th></th>\n",
       "      <th></th>\n",
       "      <th></th>\n",
       "      <th></th>\n",
       "      <th></th>\n",
       "    </tr>\n",
       "  </thead>\n",
       "  <tbody>\n",
       "    <tr>\n",
       "      <th>A</th>\n",
       "      <td>2735978</td>\n",
       "      <td>2735978</td>\n",
       "      <td>2735978</td>\n",
       "      <td>2735978</td>\n",
       "      <td>2735559</td>\n",
       "    </tr>\n",
       "    <tr>\n",
       "      <th>B</th>\n",
       "      <td>2740273</td>\n",
       "      <td>2740273</td>\n",
       "      <td>2740273</td>\n",
       "      <td>2740273</td>\n",
       "      <td>2739864</td>\n",
       "    </tr>\n",
       "  </tbody>\n",
       "</table>\n",
       "</div>"
      ],
      "text/plain": [
       "       user_id  item_id  last_watch_dt  total_dur  watched_pct\n",
       "group                                                         \n",
       "A      2735978  2735978        2735978    2735978      2735559\n",
       "B      2740273  2740273        2740273    2740273      2739864"
      ]
     },
     "execution_count": 17,
     "metadata": {},
     "output_type": "execute_result"
    }
   ],
   "source": [
    "interactions.groupby(['group']).count()"
   ]
  },
  {
   "cell_type": "markdown",
   "id": "3572ff60",
   "metadata": {},
   "source": [
    "Теперь надо наложить эфект на одну из групп."
   ]
  },
  {
   "cell_type": "code",
   "execution_count": 18,
   "id": "4c7bcf33",
   "metadata": {},
   "outputs": [],
   "source": [
    "user_agg = (\n",
    "    interactions[interactions['group'] == 'B']\n",
    "    .groupby('user_id')['total_dur']\n",
    "    .sum()\n",
    "    .reset_index()\n",
    ")\n",
    "\n",
    "threshold = user_agg['total_dur'].quantile(0.9)\n",
    "\n",
    "user_agg['is_top10'] = user_agg['total_dur'] >= threshold\n",
    "\n",
    "user_agg['adjusted_total_dur'] = user_agg.apply(\n",
    "    lambda row: row['total_dur'] * 1.025 if row['is_top10'] else row['total_dur'],\n",
    "    axis=1\n",
    ")"
   ]
  },
  {
   "cell_type": "markdown",
   "id": "6de495c3",
   "metadata": {},
   "source": [
    "### Проверка гипотезы:"
   ]
  },
  {
   "cell_type": "markdown",
   "id": "1af7558e",
   "metadata": {},
   "source": [
    "Нулевая гипотеза (H₀): между группами A и B нет статистически значимой разницы в метрике.\n",
    "\n",
    "Альтернативная гипотеза (H₁): между группами есть разница.\n",
    "\n",
    "Перед запуском мы проверили устойчивость и чувствительность выбранной метрики. total_dur показала сильную скошенность, поэтому была логарифмирована. Мы рассчитали MDE = 2.24%, что укладывается в наш ожидаемый эффект 2.5%. На 100 симуляциях с рандомизацией пользователей достигнута чувствительность (power) 100% при ошибке 1-го рода ~2%. Таким образом, метрика позволяет зафиксировать нужный эффект с высокой вероятностью."
   ]
  },
  {
   "cell_type": "code",
   "execution_count": 19,
   "id": "d667a115",
   "metadata": {},
   "outputs": [
    {
     "name": "stdout",
     "output_type": "stream",
     "text": [
      "p-value: 0.00\n"
     ]
    }
   ],
   "source": [
    "stats.ttest_ind\n",
    "vec_a = interactions[interactions['group'] == 'A']['total_dur']\n",
    "vec_b = user_agg['adjusted_total_dur']\n",
    "\n",
    "vec_a_ln = np.log(vec_a + 1)\n",
    "vec_b_effect_ln = np.log(vec_b + 1)\n",
    "\n",
    "p = stats.ttest_ind(vec_a_ln, vec_b_effect_ln)[1]\n",
    "\n",
    "print(f'p-value: {p:.2f}')"
   ]
  },
  {
   "cell_type": "markdown",
   "id": "f83c80ab",
   "metadata": {},
   "source": [
    "p-value < 0.05 отвергаем нулевую гипотезу. Между исследуемыми группами А и В есть разница. \n",
    "\n",
    "Полученному результату можно доверять, так как MDE составляет 2.5%, наш стат критерий чувствителен к таким изменениям и в 97% не происходит ложное срабатывание. "
   ]
  },
  {
   "cell_type": "markdown",
   "id": "dfd09b1d",
   "metadata": {},
   "source": [
    "## Итоги A/B теста\n",
    "\n",
    "В данном проекте была проведена симуляция A/B теста для оценки эффективности новой модели рекомендаций в онлайн-кинотеатре. \n",
    "\n",
    "### Цель:\n",
    "\n",
    "Проверить, влияет ли новая модель рекомендаций на ключевую пользовательскую метрику время просмотра total_dur.\n",
    "\n",
    "### Проведённые этапы:\n",
    "\n",
    "- Разработан **дизайн эксперимента**: сформулирована гипотеза, выбрана метрика, определены контрольная и тестовая группы.\n",
    "- Произведён **расчёт мощности теста (power analysis)** с использованием `t-test`. Power ≈ 100% — означает, что метрика чувствительна к эффекту такого масштаба, и при его наличии тест с большой вероятностью его зафиксирует. Correctness ≈ 98% — значит, что метрика в 98% случаев правильно не фиксирует эффект, когда его нет. Таким образом, ложноположительные срабатывания укладываются в допустимые границы.\n",
    "- Расчитано MDE (Minimum Detectable Effect) для выбранной метрики. MDE = 2.24 %. \n",
    "- Проведено **A/B сравнение** на синтетических данных.\n",
    "- Использованы статистические критерии:\n",
    "  - **t-тест** для проверки различий средних\n",
    "- Интерпретированы значения `p-value` и проверена значимость различий между группами. Различая между группами были сгенерированны в соответствии с условиями задачи: в группе В показала себя лучше, чем в группе А на 2.5%, причем эффект распространился неравномерно и преимущественно на 10% самых активных пользователей. \n",
    "\n",
    "\n",
    "### Выводы:\n",
    "\n",
    "- **Результаты теста** показали, что в группе В показала себя лучше, чем в группе А на 2.5%, причем эффект распространился неравномерно и преимущественно на 10% самых активных пользователей.\n",
    "- При уровне значимости α = 0.05 и мощности теста 100 %, текущие данные позволяют сделать уверенные выводы о наличие эффекта после обновлений в онлайн кинотеатре, так как модель А/В теста позволяет зафиксировать эффект превышающий 2.24 %.\n"
   ]
  }
 ],
 "metadata": {
  "kernelspec": {
   "display_name": "Python 3 (ipykernel)",
   "language": "python",
   "name": "python3"
  },
  "language_info": {
   "codemirror_mode": {
    "name": "ipython",
    "version": 3
   },
   "file_extension": ".py",
   "mimetype": "text/x-python",
   "name": "python",
   "nbconvert_exporter": "python",
   "pygments_lexer": "ipython3",
   "version": "3.11.5"
  }
 },
 "nbformat": 4,
 "nbformat_minor": 5
}
